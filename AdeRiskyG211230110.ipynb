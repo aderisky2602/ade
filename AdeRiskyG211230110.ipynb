{
  "nbformat": 4,
  "nbformat_minor": 0,
  "metadata": {
    "colab": {
      "provenance": [],
      "authorship_tag": "ABX9TyOrTWNui35uSKmcPvvUpBYn",
      "include_colab_link": true
    },
    "kernelspec": {
      "name": "python3",
      "display_name": "Python 3"
    },
    "language_info": {
      "name": "python"
    }
  },
  "cells": [
    {
      "cell_type": "markdown",
      "metadata": {
        "id": "view-in-github",
        "colab_type": "text"
      },
      "source": [
        "<a href=\"https://colab.research.google.com/github/aderisky2602/ade/blob/main/AdeRiskyG211230110.ipynb\" target=\"_parent\"><img src=\"https://colab.research.google.com/assets/colab-badge.svg\" alt=\"Open In Colab\"/></a>"
      ]
    },
    {
      "cell_type": "code",
      "execution_count": 6,
      "metadata": {
        "colab": {
          "base_uri": "https://localhost:8080/"
        },
        "id": "2kuyXve1c4hF",
        "outputId": "1db593c6-b65e-48c6-9a9e-dae190971b3b"
      },
      "outputs": [
        {
          "output_type": "stream",
          "name": "stdout",
          "text": [
            "Label Mapping: {'basis data': 0, 'data mining': 1, 'pbo': 2, 'rekayasa web': 3}\n",
            "Encoded Values: [1, 0, 2, 3]\n"
          ]
        }
      ],
      "source": [
        "#Uji1\n",
        "# Daftar mata kuliah\n",
        "mata_kuliah = [\n",
        "    \"rekayasa web\", \"basis data\", \"pbo\",\n",
        "    \"data mining\", \"basis data\", \"rekayasa web\"\n",
        "]\n",
        "\n",
        "# Mapping label mata kuliah\n",
        "unique_labels = list(set(mata_kuliah))  # Mengambil elemen unik\n",
        "label_mapping = {label: idx for idx, label in enumerate(unique_labels)}\n",
        "\n",
        "# Mengencode label\n",
        "def encode_label(label):\n",
        "    # Jika label tidak ditemukan dalam mapping, kembalikan -1\n",
        "    return label_mapping.get(label, -1)\n",
        "\n",
        "# Print label mapping\n",
        "print(\"Label Mapping:\", label_mapping)\n",
        "\n",
        "# Uji 1: Mengencode label berdasarkan input\n",
        "input_labels = [\"data mining\", \"basis data\", \"pbo\", \"rekayasa web\"]  # Perbaiki \"basisdata\" menjadi \"basis data\"\n",
        "encoded_values = [encode_label(label) for label in input_labels]\n",
        "print(\"Encoded Values:\", encoded_values)\n",
        "\n"
      ]
    },
    {
      "cell_type": "code",
      "source": [
        "#Uji2\n",
        "# Daftar mata kuliah\n",
        "mata_kuliah = [\n",
        "    \"rekayasa web\", \"basis data\", \"pbo\",\n",
        "    \"data mining\", \"basis data\", \"rekayasa web\"\n",
        "]\n",
        "\n",
        "# Mapping label mata kuliah\n",
        "unique_labels = list(set(mata_kuliah))  # Mengambil elemen unik\n",
        "label_mapping = {label: idx for idx, label in enumerate(unique_labels)}\n",
        "\n",
        "# Mengencode label\n",
        "def encode_label(label):\n",
        "    return label_mapping.get(label, -1)\n",
        "\n",
        "# Mendecode kode label\n",
        "def decode_label(code):\n",
        "    reverse_mapping = {v: k for k, v in label_mapping.items()}\n",
        "    return reverse_mapping.get(code, \"Unknown\")\n",
        "\n",
        "# Tampilkan label mapping\n",
        "print(\"Label Mapping:\", label_mapping)\n",
        "\n",
        "# Uji 1: Mengencode label berdasarkan input\n",
        "input_labels = [\"data mining\", \"basis data\", \"pbo\", \"rekayasa web\"]\n",
        "encoded_values = [encode_label(label) for label in input_labels]\n",
        "print(\"Encoded Values:\", encoded_values)\n",
        "\n",
        "# Uji 2: Mendecode kode label yang diberikan\n",
        "kode_label = [3, 2, 1, 0]\n",
        "decoded_labels = [decode_label(code) for code in kode_label]\n",
        "print(\"Decoded Labels:\", decoded_labels)\n"
      ],
      "metadata": {
        "colab": {
          "base_uri": "https://localhost:8080/"
        },
        "id": "1SGP5Tp_eaGB",
        "outputId": "415ece3e-e170-4f20-b140-78d1c35b4932"
      },
      "execution_count": 7,
      "outputs": [
        {
          "output_type": "stream",
          "name": "stdout",
          "text": [
            "Label Mapping: {'basis data': 0, 'data mining': 1, 'pbo': 2, 'rekayasa web': 3}\n",
            "Encoded Values: [1, 0, 2, 3]\n",
            "Decoded Labels: ['rekayasa web', 'pbo', 'data mining', 'basis data']\n"
          ]
        }
      ]
    }
  ]
}