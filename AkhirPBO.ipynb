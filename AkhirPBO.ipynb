{
  "nbformat": 4,
  "nbformat_minor": 0,
  "metadata": {
    "colab": {
      "provenance": [],
      "authorship_tag": "ABX9TyPjv31ZTLwXMa3LOVEk3yIR",
      "include_colab_link": true
    },
    "kernelspec": {
      "name": "python3",
      "display_name": "Python 3"
    },
    "language_info": {
      "name": "python"
    }
  },
  "cells": [
    {
      "cell_type": "markdown",
      "metadata": {
        "id": "view-in-github",
        "colab_type": "text"
      },
      "source": [
        "<a href=\"https://colab.research.google.com/github/aderisky2602/ade/blob/main/AkhirPBO.ipynb\" target=\"_parent\"><img src=\"https://colab.research.google.com/assets/colab-badge.svg\" alt=\"Open In Colab\"/></a>"
      ]
    },
    {
      "cell_type": "code",
      "source": [
        "#Sistem Pemesanan Tiket Kereta Api\n",
        "class Kereta:\n",
        "    def __init__(self, nomor_kereta, tujuan, jadwal, total_kursi):\n",
        "        self.nomor_kereta = nomor_kereta\n",
        "        self.tujuan = tujuan\n",
        "        self.jadwal = jadwal\n",
        "        self.total_kursi = total_kursi\n",
        "        self.kursi_tersedia = total_kursi\n",
        "\n",
        "    def pesan_tiket(self):\n",
        "        if self.kursi_tersedia > 0:\n",
        "            self.kursi_tersedia -= 1\n",
        "            return True\n",
        "        return False\n",
        "\n",
        "    def batalkan_tiket(self):\n",
        "        if self.kursi_tersedia < self.total_kursi:\n",
        "            self.kursi_tersedia += 1\n",
        "\n",
        "    def __str__(self):\n",
        "        return f\"Kereta {self.nomor_kereta} ke {self.tujuan} pada {self.jadwal} - Kursi Tersedia: {self.kursi_tersedia}/{self.total_kursi}\""
      ],
      "metadata": {
        "id": "gncZ2_S1x8vT"
      },
      "execution_count": null,
      "outputs": []
    },
    {
      "cell_type": "code",
      "source": [
        "#Informasi Penumpang\n",
        "class Penumpang:\n",
        "    def __init__(self, nama, kontak):\n",
        "        self.nama = nama\n",
        "        self.kontak = kontak\n",
        "\n",
        "    def __str__(self):\n",
        "        return f\"Penumpang: {self.nama}, Kontak: {self.kontak}\""
      ],
      "metadata": {
        "id": "D1TzWwRsyAjM"
      },
      "execution_count": null,
      "outputs": []
    },
    {
      "cell_type": "code",
      "source": [
        "#Tiket penumpang\n",
        "class Tiket:\n",
        "    def __init__(self, penumpang, kereta):\n",
        "        self.penumpang = penumpang\n",
        "        self.kereta = kereta\n",
        "\n",
        "    def konfirmasi_pemesanan(self):\n",
        "        if self.kereta.pesan_tiket():\n",
        "            return f\"Pemesanan dikonfirmasi untuk {self.penumpang.nama} pada Kereta {self.kereta.nomor_kereta}.\"\n",
        "        return \"Tidak ada kursi tersedia pada kereta ini.\"\n",
        "\n",
        "    def batalkan_pemesanan(self):\n",
        "        self.kereta.batalkan_tiket()\n",
        "        return f\"Pemesanan dibatalkan untuk {self.penumpang.nama}.\""
      ],
      "metadata": {
        "id": "TlVYuWg3yXsj"
      },
      "execution_count": null,
      "outputs": []
    },
    {
      "cell_type": "code",
      "source": [
        "#Daftar Kereta\n",
        "kereta_list = [\n",
        "    Kereta(\"K001\", \"Jakarta\", \"10:00 AM\", 100),\n",
        "    Kereta(\"K002\", \"Bandung\", \"01:00 PM\", 80),\n",
        "    Kereta(\"K003\", \"Yogyakarta\", \"03:00 PM\", 50),\n",
        "    Kereta(\"K004\", \"Surabaya\", \"05:00 PM\", 120),\n",
        "    Kereta(\"K005\", \"Medan\", \"07:00 PM\", 90),\n",
        "    Kereta(\"K006\", \"Semarang\", \"09:00 PM\", 70),\n",
        "    Kereta(\"K007\", \"Denpasar\", \"11:00 PM\", 60),\n",
        "    Kereta(\"K008\", \"Palembang\", \"12:00 AM\", 40),\n",
        "    Kereta(\"K009\", \"Makassar\", \"02:00 PM\", 30),\n",
        "    Kereta(\"K010\", \"Balikpapan\", \"04:00 PM\", 20)\n",
        "]"
      ],
      "metadata": {
        "id": "Fway2xq0yfKo"
      },
      "execution_count": null,
      "outputs": []
    },
    {
      "cell_type": "code",
      "source": [
        "#Daftar kereta yang tersedia\n",
        "def tampilkan_kereta(kereta_list):\n",
        "    for kereta in kereta_list:\n",
        "        print(kereta)\n",
        "\n",
        "tampilkan_kereta(kereta_list)"
      ],
      "metadata": {
        "colab": {
          "base_uri": "https://localhost:8080/"
        },
        "id": "8foF9jcEyjgC",
        "outputId": "7a9908e1-76c6-4bd8-ceb5-dc9624e082ef"
      },
      "execution_count": null,
      "outputs": [
        {
          "output_type": "stream",
          "name": "stdout",
          "text": [
            "Kereta K001 ke Jakarta pada 10:00 AM - Kursi Tersedia: 100/100\n",
            "Kereta K002 ke Bandung pada 01:00 PM - Kursi Tersedia: 80/80\n",
            "Kereta K003 ke Yogyakarta pada 03:00 PM - Kursi Tersedia: 50/50\n",
            "Kereta K004 ke Surabaya pada 05:00 PM - Kursi Tersedia: 120/120\n",
            "Kereta K005 ke Medan pada 07:00 PM - Kursi Tersedia: 90/90\n",
            "Kereta K006 ke Semarang pada 09:00 PM - Kursi Tersedia: 70/70\n",
            "Kereta K007 ke Denpasar pada 11:00 PM - Kursi Tersedia: 60/60\n",
            "Kereta K008 ke Palembang pada 12:00 AM - Kursi Tersedia: 40/40\n",
            "Kereta K009 ke Makassar pada 02:00 PM - Kursi Tersedia: 30/30\n",
            "Kereta K010 ke Balikpapan pada 04:00 PM - Kursi Tersedia: 20/20\n"
          ]
        }
      ]
    },
    {
      "cell_type": "code",
      "source": [
        "#Pemesanan Tiket Kereta\n",
        "def proses_pemesanan(nama_penumpang, kontak_penumpang, kereta):\n",
        "    penumpang = Penumpang(nama_penumpang, kontak_penumpang)\n",
        "    tiket = Tiket(penumpang, kereta)\n",
        "    return tiket.konfirmasi_pemesanan()\n",
        "\n",
        "  # Contoh pemesanan\n",
        "print(proses_pemesanan(\"Ade Risky\", \"987654321\", kereta_list[0]))  # Memesan pada Kereta K001\n",
        "print(proses_pemesanan(\"Putra\", \"123343289\", kereta_list[3]))  # Memesan pada Kereta K002\n",
        "print(proses_pemesanan(\"Keysha\", \"209873432\", kereta_list[9]))  # Memesan pada Kereta K008\n",
        "print(proses_pemesanan(\"Carina\", \"709872341\", kereta_list[0]))  # Memesan pada Kereta K001\n"
      ],
      "metadata": {
        "colab": {
          "base_uri": "https://localhost:8080/"
        },
        "id": "KgFA5kxcyqXM",
        "outputId": "8e1bec96-ee5d-466b-9c66-d3ec62922639"
      },
      "execution_count": null,
      "outputs": [
        {
          "output_type": "stream",
          "name": "stdout",
          "text": [
            "Pemesanan dikonfirmasi untuk Ade Risky pada Kereta K001.\n",
            "Pemesanan dikonfirmasi untuk Putra pada Kereta K004.\n",
            "Pemesanan dikonfirmasi untuk Keysha pada Kereta K010.\n",
            "Pemesanan dikonfirmasi untuk Carina pada Kereta K001.\n"
          ]
        }
      ]
    },
    {
      "cell_type": "code",
      "source": [
        "# Contoh pembatalan\n",
        "print(\"\\n\" + proses_pembatalan(tiket1))  # Membatalkan tiket yang telah dipesan\n",
        "\n",
        "# Tampilkan status kereta setelah pembatalan\n",
        "print(\"\\nStatus kereta setelah pembatalan:\")\n",
        "tampilkan_kereta(kereta_list)"
      ],
      "metadata": {
        "colab": {
          "base_uri": "https://localhost:8080/"
        },
        "id": "Qv0zFqpPyz5c",
        "outputId": "74431bbb-578a-48fd-829e-66126c0f7928"
      },
      "execution_count": null,
      "outputs": [
        {
          "output_type": "stream",
          "name": "stdout",
          "text": [
            "\n",
            "Pemesanan dibatalkan untuk Alice Johnson.\n",
            "\n",
            "Status kereta setelah pembatalan:\n",
            "Kereta K001 ke Jakarta pada 10:00 AM - Kursi Tersedia: 86/100\n",
            "Kereta K002 ke Bandung pada 01:00 PM - Kursi Tersedia: 80/80\n",
            "Kereta K003 ke Yogyakarta pada 03:00 PM - Kursi Tersedia: 50/50\n",
            "Kereta K004 ke Surabaya pada 05:00 PM - Kursi Tersedia: 119/120\n",
            "Kereta K005 ke Medan pada 07:00 PM - Kursi Tersedia: 90/90\n",
            "Kereta K006 ke Semarang pada 09:00 PM - Kursi Tersedia: 70/70\n",
            "Kereta K007 ke Denpasar pada 11:00 PM - Kursi Tersedia: 60/60\n",
            "Kereta K008 ke Palembang pada 12:00 AM - Kursi Tersedia: 40/40\n",
            "Kereta K009 ke Makassar pada 02:00 PM - Kursi Tersedia: 30/30\n",
            "Kereta K010 ke Balikpapan pada 04:00 PM - Kursi Tersedia: 19/20\n"
          ]
        }
      ]
    }
  ]
}