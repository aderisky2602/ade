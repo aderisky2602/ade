{
  "nbformat": 4,
  "nbformat_minor": 0,
  "metadata": {
    "colab": {
      "provenance": [],
      "authorship_tag": "ABX9TyP1zj2otuqmSmgt0tpSiGUE",
      "include_colab_link": true
    },
    "kernelspec": {
      "name": "python3",
      "display_name": "Python 3"
    },
    "language_info": {
      "name": "python"
    }
  },
  "cells": [
    {
      "cell_type": "markdown",
      "metadata": {
        "id": "view-in-github",
        "colab_type": "text"
      },
      "source": [
        "<a href=\"https://colab.research.google.com/github/aderisky2602/ade/blob/main/AkhirPBO.ipynb\" target=\"_parent\"><img src=\"https://colab.research.google.com/assets/colab-badge.svg\" alt=\"Open In Colab\"/></a>"
      ]
    },
    {
      "cell_type": "code",
      "execution_count": 3,
      "metadata": {
        "id": "8TA-Y8xdvW3Y"
      },
      "outputs": [],
      "source": [
        "#Sistem\n",
        "\n",
        "#Room Class\n",
        "class Room:\n",
        "    def __init__(self, room_number, room_type, price):\n",
        "        self.room_number = room_number\n",
        "        self.room_type = room_type\n",
        "        self.price = price\n",
        "        self.is_available = True\n",
        "\n",
        "    def book_room(self):\n",
        "        if self.is_available:\n",
        "            self.is_available = False\n",
        "            return True\n",
        "        return False\n",
        "\n",
        "    def cancel_booking(self):\n",
        "        self.is_available = True\n",
        "\n",
        "    def __str__(self):\n",
        "        return f'Room {self.room_number}: {self.room_type}, Price: {self.price}, Available: {self.is_available}'"
      ]
    },
    {
      "cell_type": "code",
      "source": [
        "#Guest Class\n",
        "class Guest:\n",
        "    def __init__(self, name, contact_info):\n",
        "        self.name = name\n",
        "        self.contact_info = contact_info\n",
        "\n",
        "    def __str__(self):\n",
        "        return f'Guest Name: {self.name}, Contact: {self.contact_info}'"
      ],
      "metadata": {
        "id": "a8wWnHdDv0EZ"
      },
      "execution_count": 4,
      "outputs": []
    },
    {
      "cell_type": "code",
      "source": [
        "#Booking Class\n",
        "class Booking:\n",
        "    def __init__(self, guest, room):\n",
        "        self.guest = guest\n",
        "        self.room = room\n",
        "\n",
        "    def confirm_booking(self):\n",
        "        if self.room.book_room():\n",
        "            return f'Booking confirmed for {self.guest.name} in {self.room}'\n",
        "        return 'Room is not available for booking.'\n",
        "\n",
        "    def cancel_booking(self):\n",
        "        self.room.cancel_booking()\n",
        "        return f'Booking for {self.guest.name} in {self.room} has been cancelled.'"
      ],
      "metadata": {
        "id": "zy2-Ol-cv6i_"
      },
      "execution_count": 5,
      "outputs": []
    },
    {
      "cell_type": "code",
      "source": [
        "#Daftar Kamar\n",
        "rooms = [\n",
        "    Room(101, 'Single', 100),\n",
        "    Room(102, 'Double', 150),\n",
        "    Room(103, 'Suite', 250)\n",
        "]\n",
        "\n",
        "for room in rooms:\n",
        "    print(room)"
      ],
      "metadata": {
        "colab": {
          "base_uri": "https://localhost:8080/"
        },
        "id": "He8pYeHbwG5r",
        "outputId": "adc2c520-4562-45fe-c98d-9b1be6d81c21"
      },
      "execution_count": 6,
      "outputs": [
        {
          "output_type": "stream",
          "name": "stdout",
          "text": [
            "Room 101: Single, Price: 100, Available: True\n",
            "Room 102: Double, Price: 150, Available: True\n",
            "Room 103: Suite, Price: 250, Available: True\n"
          ]
        }
      ]
    },
    {
      "cell_type": "code",
      "source": [
        "#Pemesanan\n",
        "# Contoh tamu\n",
        "guest1 = Guest('Putra Arnando', 'putraarnando.com')\n",
        "\n",
        "# Melakukan pemesanan\n",
        "booking1 = Booking(guest1, rooms[0])  # Memilih kamar 101\n",
        "print(booking1.confirm_booking())"
      ],
      "metadata": {
        "colab": {
          "base_uri": "https://localhost:8080/"
        },
        "id": "cTn2MJBwwTLF",
        "outputId": "21a96ec2-ca29-49b3-fa3e-12a3e2d300d4"
      },
      "execution_count": 7,
      "outputs": [
        {
          "output_type": "stream",
          "name": "stdout",
          "text": [
            "Booking confirmed for Putra Arnando in Room 101: Single, Price: 100, Available: False\n"
          ]
        }
      ]
    },
    {
      "cell_type": "code",
      "source": [
        "#Membatalkan Reservasi\n",
        "print(booking1.cancel_booking())"
      ],
      "metadata": {
        "colab": {
          "base_uri": "https://localhost:8080/"
        },
        "id": "Z4Y0CfChwpzs",
        "outputId": "b179e8c8-c9c1-4395-f529-7053d009d047"
      },
      "execution_count": 9,
      "outputs": [
        {
          "output_type": "stream",
          "name": "stdout",
          "text": [
            "Booking for Putra Arnando in Room 101: Single, Price: 100, Available: True has been cancelled.\n"
          ]
        }
      ]
    },
    {
      "cell_type": "code",
      "source": [
        "#Daftar Kamar\n",
        "for room in rooms:\n",
        "    print(room)"
      ],
      "metadata": {
        "colab": {
          "base_uri": "https://localhost:8080/"
        },
        "id": "x-9owek_xNZs",
        "outputId": "506ad693-11c7-4d80-edcc-f221523b6ea8"
      },
      "execution_count": 10,
      "outputs": [
        {
          "output_type": "stream",
          "name": "stdout",
          "text": [
            "Room 101: Single, Price: 100, Available: True\n",
            "Room 102: Double, Price: 150, Available: True\n",
            "Room 103: Suite, Price: 250, Available: True\n"
          ]
        }
      ]
    },
    {
      "cell_type": "code",
      "source": [
        "#Daftar Kereta\n",
        "class Train:\n",
        "    def __init__(self, train_number, destination, total_seats):\n",
        "        self.train_number = train_number\n",
        "        self.destination = destination\n",
        "        self.total_seats = total_seats\n",
        "        self.available_seats = total_seats\n",
        "\n",
        "    def book_seat(self):\n",
        "        if self.available_seats > 0:\n",
        "            self.available_seats -= 1\n",
        "            return True\n",
        "        return False\n",
        "\n",
        "    def cancel_seat(self):\n",
        "        if self.available_seats < self.total_seats:\n",
        "            self.available_seats += 1\n",
        "\n",
        "    def __str__(self):\n",
        "        return f'Train {self.train_number}: Destination: {self.destination}, Available Seats: {self.available_seats}/{self.total_seats}'"
      ],
      "metadata": {
        "id": "gncZ2_S1x8vT"
      },
      "execution_count": 14,
      "outputs": []
    },
    {
      "cell_type": "code",
      "source": [
        "#Kelas Penumpang\n",
        "class Passenger:\n",
        "    def __init__(self, name, contact_info):\n",
        "        self.name = name\n",
        "        self.contact_info = contact_info\n",
        "\n",
        "    def __str__(self):\n",
        "        return f'Passenger Name: {self.name}, Contact: {self.contact_info}'"
      ],
      "metadata": {
        "id": "D1TzWwRsyAjM"
      },
      "execution_count": 15,
      "outputs": []
    },
    {
      "cell_type": "code",
      "source": [
        "#Tiket penumpang\n",
        "class Ticket:\n",
        "    def __init__(self, passenger, train):\n",
        "        self.passenger = passenger\n",
        "        self.train = train\n",
        "\n",
        "    def confirm_ticket(self):\n",
        "        if self.train.book_seat():\n",
        "            return f'Ticket confirmed for {self.passenger.name} on {self.train}'\n",
        "        return 'No available seats on this train.'\n",
        "\n",
        "    def cancel_ticket(self):\n",
        "        self.train.cancel_seat()\n",
        "        return f'Ticket for {self.passenger.name} on {self.train} has been cancelled.'"
      ],
      "metadata": {
        "id": "TlVYuWg3yXsj"
      },
      "execution_count": 16,
      "outputs": []
    },
    {
      "cell_type": "code",
      "source": [
        "#Daftar Kereta Api\n",
        "trains = [\n",
        "    Train('K101', 'Jakarta', 100),\n",
        "    Train('K102', 'Bandung', 150),\n",
        "    Train('K103', 'Yogyakarta', 200)\n",
        "]\n",
        "\n",
        "for train in trains:\n",
        "    print(train)"
      ],
      "metadata": {
        "colab": {
          "base_uri": "https://localhost:8080/"
        },
        "id": "Fway2xq0yfKo",
        "outputId": "87826eb4-f63e-4e0b-ba56-18250f838931"
      },
      "execution_count": 17,
      "outputs": [
        {
          "output_type": "stream",
          "name": "stdout",
          "text": [
            "Train K101: Destination: Jakarta, Available Seats: 100/100\n",
            "Train K102: Destination: Bandung, Available Seats: 150/150\n",
            "Train K103: Destination: Yogyakarta, Available Seats: 200/200\n"
          ]
        }
      ]
    },
    {
      "cell_type": "code",
      "source": [
        "#Pemesanan Tiket\n",
        "passenger1 = Passenger('John Doe', 'john@example.com')\n",
        "\n",
        "# Melakukan pemesanan tiket\n",
        "ticket1 = Ticket(passenger1, trains[0])  # Memilih kereta K101\n",
        "print(ticket1.confirm_ticket())"
      ],
      "metadata": {
        "colab": {
          "base_uri": "https://localhost:8080/"
        },
        "id": "8foF9jcEyjgC",
        "outputId": "f4787a03-d9b2-40de-de6b-5c1b131ffae6"
      },
      "execution_count": 18,
      "outputs": [
        {
          "output_type": "stream",
          "name": "stdout",
          "text": [
            "Ticket confirmed for John Doe on Train K101: Destination: Jakarta, Available Seats: 99/100\n"
          ]
        }
      ]
    },
    {
      "cell_type": "code",
      "source": [
        "#Cancel Pemesanan Tiket\n",
        "print(ticket1.cancel_ticket())"
      ],
      "metadata": {
        "colab": {
          "base_uri": "https://localhost:8080/"
        },
        "id": "KgFA5kxcyqXM",
        "outputId": "5b949bf1-7054-4d7b-ca13-27a321c029bf"
      },
      "execution_count": 19,
      "outputs": [
        {
          "output_type": "stream",
          "name": "stdout",
          "text": [
            "Ticket for John Doe on Train K101: Destination: Jakarta, Available Seats: 100/100 has been cancelled.\n"
          ]
        }
      ]
    },
    {
      "cell_type": "code",
      "source": [
        "#Hasil Pemesanan\n",
        "for train in trains:\n",
        "    print(train)"
      ],
      "metadata": {
        "colab": {
          "base_uri": "https://localhost:8080/"
        },
        "id": "Qv0zFqpPyz5c",
        "outputId": "bad20dc8-e098-43b3-d56b-09bb11dae1b0"
      },
      "execution_count": 20,
      "outputs": [
        {
          "output_type": "stream",
          "name": "stdout",
          "text": [
            "Train K101: Destination: Jakarta, Available Seats: 100/100\n",
            "Train K102: Destination: Bandung, Available Seats: 150/150\n",
            "Train K103: Destination: Yogyakarta, Available Seats: 200/200\n"
          ]
        }
      ]
    }
  ]
}