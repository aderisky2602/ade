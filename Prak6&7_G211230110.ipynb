{
  "nbformat": 4,
  "nbformat_minor": 0,
  "metadata": {
    "colab": {
      "provenance": [],
      "authorship_tag": "ABX9TyOZEYTrr+xyTrEBM7aVj3hS",
      "include_colab_link": true
    },
    "kernelspec": {
      "name": "python3",
      "display_name": "Python 3"
    },
    "language_info": {
      "name": "python"
    }
  },
  "cells": [
    {
      "cell_type": "markdown",
      "metadata": {
        "id": "view-in-github",
        "colab_type": "text"
      },
      "source": [
        "<a href=\"https://colab.research.google.com/github/aderisky2602/ade/blob/main/Prak6%267_G211230110.ipynb\" target=\"_parent\"><img src=\"https://colab.research.google.com/assets/colab-badge.svg\" alt=\"Open In Colab\"/></a>"
      ]
    },
    {
      "cell_type": "code",
      "execution_count": null,
      "metadata": {
        "colab": {
          "base_uri": "https://localhost:8080/"
        },
        "id": "I9p9xS_Nvpnq",
        "outputId": "1c44f800-92d7-4858-cd14-db018b109bcf"
      },
      "outputs": [
        {
          "output_type": "stream",
          "name": "stdout",
          "text": [
            "Persediaan = 120\n"
          ]
        }
      ],
      "source": [
        "class Persediaangudang:\n",
        "    def __init__(self, persediaan):\n",
        "        self.persediaan = persediaan\n",
        "        self.jumlah_diambil = 0\n",
        "        self.jumlah_disimpan = 0\n",
        "\n",
        "    def simpan(self, jumlah):\n",
        "        self.jumlah_disimpan += jumlah\n",
        "\n",
        "    def ambil(self, jumlah):\n",
        "        self.jumlah_diambil += jumlah\n",
        "\n",
        "    def cetak_persediaan(self):\n",
        "        total_persediaan = self.persediaan + self.jumlah_disimpan - self.jumlah_diambil\n",
        "        print(f\"Persediaan = {total_persediaan}\")\n",
        "\n",
        "if __name__ == \"__main__\":\n",
        "    gudang = Persediaangudang(100)\n",
        "    gudang.simpan(50)\n",
        "    gudang.ambil(30)\n",
        "    gudang.cetak_persediaan()\n"
      ]
    },
    {
      "cell_type": "code",
      "source": [
        "#Latihan Soal Keaktifan\n",
        "class Matematika:\n",
        "    def perkalian(self, a, b):\n",
        "        \"\"\"Mengembalikan hasil perkalian a dan b\"\"\"\n",
        "        return a * b\n",
        "\n",
        "mat = Matematika()\n",
        "\n",
        "hasil = mat.perkalian(6, 7)\n",
        "print(\"Hasil perkalian 6 x 7 =\", hasil)\n"
      ],
      "metadata": {
        "colab": {
          "base_uri": "https://localhost:8080/"
        },
        "id": "iSLUC84QyKps",
        "outputId": "539d4c13-1ad7-40a8-f1cc-6b26d8db57ce"
      },
      "execution_count": null,
      "outputs": [
        {
          "output_type": "stream",
          "name": "stdout",
          "text": [
            "Hasil perkalian 6 x 7 = 42\n"
          ]
        }
      ]
    },
    {
      "cell_type": "code",
      "source": [
        "class Matematika:\n",
        "    def pembagian(self, a, b):\n",
        "\n",
        "        if b != 0:\n",
        "            return a / b\n",
        "        else:\n",
        "            return\n",
        "\n",
        "class MatematikaDemo:\n",
        "    def __init__(self):\n",
        "        self.matematika = Matematika()\n",
        "\n",
        "    def tampilkan_pembagian(self):\n",
        "        a = 20\n",
        "        b = 2\n",
        "        hasil = self.matematika.pembagian(a, b)\n",
        "        print(f\"Pembagian: {a} / {b} = {hasil}\")\n",
        "\n",
        "# Eksekusi\n",
        "if __name__ == \"__main__\":\n",
        "    demo = MatematikaDemo()\n",
        "    demo.tampilkan_pembagian()\n"
      ],
      "metadata": {
        "colab": {
          "base_uri": "https://localhost:8080/"
        },
        "id": "c5aaajiy0fyE",
        "outputId": "8f0cab2c-c53d-48d4-8dde-7651b80490a7"
      },
      "execution_count": null,
      "outputs": [
        {
          "output_type": "stream",
          "name": "stdout",
          "text": [
            "Pembagian: 20 / 2 = 10.0\n"
          ]
        }
      ]
    },
    {
      "cell_type": "code",
      "source": [
        "class SepedaMotor:\n",
        "    def __init__(self, warna, tahun_produksi):\n",
        "        self._warna = warna\n",
        "        self._tahun_produksi = tahun_produksi\n",
        "\n",
        "    def info_motor(self):\n",
        "        return f\"Warna: {self._warna}, Tahun Produksi: {self._tahun_produksi}\"\n",
        "\n",
        "# Contoh penggunaan\n",
        "if __name__ == \"__main__\":\n",
        "    motor1 = SepedaMotor(\"Merah\", 2020)\n",
        "    motor2 = SepedaMotor(\"Biru\", 2021)\n",
        "\n",
        "    print(motor1.info_motor())\n",
        "    print(motor2.info_motor())\n"
      ],
      "metadata": {
        "colab": {
          "base_uri": "https://localhost:8080/"
        },
        "id": "RW-zWmcJ0wxU",
        "outputId": "c0705c70-953a-4e6d-f77a-5ea4c8a4f5c1"
      },
      "execution_count": null,
      "outputs": [
        {
          "output_type": "stream",
          "name": "stdout",
          "text": [
            "Warna: Merah, Tahun Produksi: 2020\n",
            "Warna: Biru, Tahun Produksi: 2021\n"
          ]
        }
      ]
    },
    {
      "cell_type": "code",
      "source": [
        "# Class SepedaMontor2 dengan method untuk menghidupkan, mematikan, dan menjalankan sepeda motor\n",
        "class SepedaMontor2:\n",
        "    def __init__(self):\n",
        "        self.menyala = False\n",
        "\n",
        "    def hidupkan(self):\n",
        "        if not self.menyala:\n",
        "            self.menyala = True\n",
        "            print(\"Sepeda motor dihidupkan.\")\n",
        "        else:\n",
        "            print(\"Sepeda motor sudah menyala.\")\n",
        "\n",
        "    def matikan(self):\n",
        "        if self.menyala:\n",
        "            self.menyala = False\n",
        "            print(\"Sepeda motor dimatikan.\")\n",
        "        else:\n",
        "            print(\"Sepeda motor sudah mati.\")\n",
        "\n",
        "    def jalankan(self):\n",
        "        if self.menyala:\n",
        "            print(\"Sepeda motor sedang berjalan.\")\n",
        "        else:\n",
        "            print(\"Nyalakan sepeda motor terlebih dahulu sebelum menjalankannya.\")\n",
        "\n",
        "class SepedaMontorDemo2:\n",
        "    def __init__(self):\n",
        "        self.sepeda = SepedaMontor2()\n",
        "\n",
        "    def demo(self):\n",
        "        self.sepeda.hidupkan()\n",
        "        self.sepeda.jalankan()\n",
        "        self.sepeda.matikan()\n",
        "\n",
        "# Eksekusi\n",
        "if __name__ == \"__main__\":\n",
        "    demo = SepedaMontorDemo2()\n",
        "    demo.demo()\n"
      ],
      "metadata": {
        "colab": {
          "base_uri": "https://localhost:8080/"
        },
        "id": "fl43jxgu2qZC",
        "outputId": "98eb7bdc-6ecb-44f4-97cb-fcf39506c483"
      },
      "execution_count": null,
      "outputs": [
        {
          "output_type": "stream",
          "name": "stdout",
          "text": [
            "Sepeda motor dihidupkan.\n",
            "Sepeda motor sedang berjalan.\n",
            "Sepeda motor dimatikan.\n"
          ]
        }
      ]
    },
    {
      "cell_type": "code",
      "source": [
        "from datetime import datetime\n",
        "\n",
        "class Salam:\n",
        "    def __init__(self, jenis_salam):\n",
        "        self.jenis_salam = jenis_salam\n",
        "        self.waktu = datetime.now()\n",
        "\n",
        "    def info_salam(self):\n",
        "        return f\"{self.jenis_salam} (diberikan pada {self.waktu.strftime('%Y-%m-%d %H:%M:%S')})\"\n",
        "\n",
        "class PemberiSalam:\n",
        "    def __init__(self, nama):\n",
        "        self.nama = nama\n",
        "        self.salam_diberikan = []\n",
        "\n",
        "    def beri_salam(self, jenis_salam):\n",
        "        salam_baru = Salam(jenis_salam)\n",
        "        self.salam_diberikan.append(salam_baru)\n",
        "        return salam_baru.info_salam()\n",
        "\n",
        "    def daftar_salam(self):\n",
        "        for salam in self.salam_diberikan:\n",
        "            print(salam.info_salam())\n",
        "\n",
        "# Contoh penggunaan\n",
        "if __name__ == \"__main__\":\n",
        "    pemberi_salam = PemberiSalam(\"Andi\")\n",
        "    print(pemberi_salam.beri_salam(\"Selamat Pagi!\"))\n",
        "    print(pemberi_salam.beri_salam(\"Selamat Siang!\"))\n",
        "\n",
        "    print(\"\\nDaftar Salam yang Diberikan:\")\n",
        "    pemberi_salam.daftar_salam()\n"
      ],
      "metadata": {
        "colab": {
          "base_uri": "https://localhost:8080/"
        },
        "id": "ehl0cCt433wg",
        "outputId": "37e5a751-80d3-4f6f-e5ef-ef387e483f73"
      },
      "execution_count": null,
      "outputs": [
        {
          "output_type": "stream",
          "name": "stdout",
          "text": [
            "Selamat Pagi! (diberikan pada 2024-11-04 01:59:22)\n",
            "Selamat Siang! (diberikan pada 2024-11-04 01:59:22)\n",
            "\n",
            "Daftar Salam yang Diberikan:\n",
            "Selamat Pagi! (diberikan pada 2024-11-04 01:59:22)\n",
            "Selamat Siang! (diberikan pada 2024-11-04 01:59:22)\n"
          ]
        }
      ]
    },
    {
      "cell_type": "code",
      "source": [
        "#Java Class\n",
        "from abc import ABC, abstractmethod\n",
        "\n",
        "class Pelajar(ABC):\n",
        "    @abstractmethod\n",
        "    def belajar(self):\n",
        "        pass\n",
        "\n",
        "class Pelajar1(Pelajar):\n",
        "    def __init__(self, nama, umur):\n",
        "        self.nama = nama\n",
        "        self.umur = umur\n",
        "\n",
        "    def belajar(self):\n",
        "        return f\"{self.nama} sedang belajar di kelas 1.\"\n",
        "\n",
        "    def info(self):\n",
        "        return f\"Pelajar1: {self.nama}, Umur: {self.umur} tahun.\"\n",
        "\n",
        "class Pelajar2(Pelajar):\n",
        "    def __init__(self, nama, umur):\n",
        "        self.nama = nama\n",
        "        self.umur = umur\n",
        "\n",
        "    def belajar(self):\n",
        "        return f\"{self.nama} sedang belajar di kelas 2.\"\n",
        "\n",
        "    def info(self):\n",
        "        return f\"Pelajar2: {self.nama}, Umur: {self.umur} tahun.\"\n",
        "\n",
        "class PelajarDemo:\n",
        "    def __init__(self):\n",
        "        self.pelajar1 = Pelajar1(\"Budi\", 12)\n",
        "        self.pelajar2 = Pelajar2(\"Siti\", 13)\n",
        "\n",
        "    def tampilkan_info(self):\n",
        "        print(self.pelajar1.info())\n",
        "        print(self.pelajar1.belajar())\n",
        "        print(self.pelajar2.info())\n",
        "        print(self.pelajar2.belajar())\n",
        "\n",
        "# Contoh penggunaan\n",
        "if __name__ == \"__main__\":\n",
        "    demo = PelajarDemo()\n",
        "    demo.tampilkan_info()\n"
      ],
      "metadata": {
        "colab": {
          "base_uri": "https://localhost:8080/"
        },
        "id": "oixCylz4Ajy4",
        "outputId": "4017e07c-b730-404b-e140-c8e238d5c597"
      },
      "execution_count": 5,
      "outputs": [
        {
          "output_type": "stream",
          "name": "stdout",
          "text": [
            "Pelajar1: Budi, Umur: 12 tahun.\n",
            "Budi sedang belajar di kelas 1.\n",
            "Pelajar2: Siti, Umur: 13 tahun.\n",
            "Siti sedang belajar di kelas 2.\n"
          ]
        }
      ]
    },
    {
      "cell_type": "code",
      "source": [
        "#Latihan Soal Abstraction\n",
        "\n",
        "class Person:\n",
        "    def __init__(self, nama, alamat):\n",
        "        self.nama = nama\n",
        "        self.alamat = alamat\n",
        "\n",
        "    def tampilkan_info(self):\n",
        "        print(\"Nama:\", self.nama)\n",
        "        print(\"Alamat:\", self.alamat)\n",
        "\n",
        "class Mahasiswa(Person):\n",
        "    def __init__(self, nim, nama, program_studi, alamat, semester, motivasi):\n",
        "        super().__init__(nama, alamat)\n",
        "        self.nim = nim\n",
        "        self.fakultas = \"Fakultas Ilmu Komputer\"  # otomatis diisi\n",
        "        self.program_studi = program_studi\n",
        "        self.semester = semester\n",
        "        self.motivasi = motivasi\n",
        "\n",
        "    def tampilkan_data(self):\n",
        "        print(\"NIM:\", self.nim)\n",
        "        print(\"Nama:\", self.nama)\n",
        "        print(\"Fakultas:\", self.fakultas)\n",
        "        print(\"Program Studi:\", self.program_studi)\n",
        "        print(\"Alamat:\", self.alamat)\n",
        "        print(\"Semester:\", self.semester)\n",
        "        print(\"Motivasi Belajar Pemrograman:\", self.motivasi)\n",
        "\n",
        "nim = input(\"Masukkan NIM: \")\n",
        "nama = input(\"Masukkan Nama: \")\n",
        "program_studi = input(\"Masukkan Program Studi: \")\n",
        "alamat = input(\"Masukkan Alamat: \")\n",
        "semester = input(\"Masukkan Semester: \")\n",
        "motivasi = input(\"Masukkan Motivasi Belajar Pemrograman: \")\n",
        "\n",
        "#Contoh Penggunaan\n",
        "mahasiswa = Mahasiswa(nim, nama, program_studi, alamat, semester, motivasi)\n",
        "print(\"\\nData Mahasiswa:\")\n",
        "mahasiswa.tampilkan_data()\n"
      ],
      "metadata": {
        "colab": {
          "base_uri": "https://localhost:8080/"
        },
        "id": "nSuG0_XzB0P5",
        "outputId": "eed40f5c-1329-4c63-a994-76a328832fed"
      },
      "execution_count": 10,
      "outputs": [
        {
          "output_type": "stream",
          "name": "stdout",
          "text": [
            "Masukkan NIM: G.211.23.0110\n",
            "Masukkan Nama: Ade Risky Refaldi Nainggolan\n",
            "Masukkan Program Studi: Teknik Informatika\n",
            "Masukkan Alamat: Dempel Kidul\n",
            "Masukkan Semester: 3\n",
            "Masukkan Motivasi Belajar Pemrograman: Kurang Motivasi\n",
            "\n",
            "Data Mahasiswa:\n",
            "NIM: G.211.23.0110\n",
            "Nama: Ade Risky Refaldi Nainggolan\n",
            "Fakultas: Fakultas Ilmu Komputer\n",
            "Program Studi: Teknik Informatika\n",
            "Alamat: Dempel Kidul\n",
            "Semester: 3\n",
            "Motivasi Belajar Pemrograman: Kurang Motivasi\n"
          ]
        }
      ]
    },
    {
      "cell_type": "code",
      "source": [
        "#Binatang\n",
        "\n",
        "class Hewan:\n",
        "  def suara(self):\n",
        "    pass\n",
        "\n",
        "class Kucing(Hewan):\n",
        "  def suara(self):\n",
        "    return(\"Meong\")\n",
        "\n",
        "class Anjing(Hewan):\n",
        "  def suara(self):\n",
        "    return(\"Guk\")\n",
        "\n",
        "def dengar_suara(hewan):\n",
        "  print(hewan.suara())\n",
        "\n",
        "if __name__ == \"__main__\":\n",
        "  hewan_kucing = Kucing()\n",
        "  hewan_anjing = Anjing()\n",
        "\n",
        "dengar_suara(hewan_kucing)\n",
        "dengar_suara(hewan_anjing)"
      ],
      "metadata": {
        "colab": {
          "base_uri": "https://localhost:8080/"
        },
        "id": "EuO0f3XwEBFK",
        "outputId": "70c11ba3-30d0-4987-8bda-907df225c55b"
      },
      "execution_count": 11,
      "outputs": [
        {
          "output_type": "stream",
          "name": "stdout",
          "text": [
            "Meong\n",
            "Guk\n"
          ]
        }
      ]
    },
    {
      "cell_type": "code",
      "source": [
        "#Polimorfisme\n",
        "class Buku:\n",
        "    def __init__(self, judul, pengarang, penerbit, tahun):\n",
        "        self.judul = judul\n",
        "        self.pengarang = pengarang\n",
        "        self.penerbit = penerbit\n",
        "        self.tahun = tahun\n",
        "\n",
        "    def info_buku(self):\n",
        "        return f\"Judul: {self.judul}, Pengarang: {self.pengarang}, Penerbit: {self.penerbit}, Tahun: {self.tahun}\"\n",
        "\n",
        "class Fiksi(Buku):\n",
        "    def info_buku(self):\n",
        "        return f\"[Fiksi] {super().info_buku()}\"\n",
        "\n",
        "class NonFiksi(Buku):\n",
        "    def info_buku(self):\n",
        "        return f\"[Non-Fiksi] {super().info_buku()}\"\n",
        "\n",
        "def tampilkan_info_buku(buku):\n",
        "    print(buku.info_buku())\n",
        "\n",
        "buku1 = Fiksi(\" Laskar Pelangi\", \"Andrea Hirata\", \"Bentang Pustaka\", 2005)\n",
        "buku2 = NonFiksi(\"Koala Kumal\", \"Raditya Dika\", \"Gagas Media\", 2016)\n",
        "\n",
        "# Menampilkan informasi buku\n",
        "print(\"Polimorfisme Demo:\")\n",
        "tampilkan_info_buku(buku1)\n",
        "tampilkan_info_buku(buku2)\n"
      ],
      "metadata": {
        "colab": {
          "base_uri": "https://localhost:8080/"
        },
        "id": "nDfGoB9uGGY4",
        "outputId": "442148e3-f39b-4e92-e71e-606976875aed"
      },
      "execution_count": 12,
      "outputs": [
        {
          "output_type": "stream",
          "name": "stdout",
          "text": [
            "Polimorfisme Demo:\n",
            "[Fiksi] Judul:  Laskar Pelangi, Pengarang: Andrea Hirata, Penerbit: Bentang Pustaka, Tahun: 2005\n",
            "[Non-Fiksi] Judul: Koala Kumal, Pengarang: Raditya Dika, Penerbit: Gagas Media, Tahun: 2016\n"
          ]
        }
      ]
    }
  ]
}