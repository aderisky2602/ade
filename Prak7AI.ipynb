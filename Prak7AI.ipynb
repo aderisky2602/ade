{
  "nbformat": 4,
  "nbformat_minor": 0,
  "metadata": {
    "colab": {
      "provenance": [],
      "authorship_tag": "ABX9TyNoQNpsLttuMoGWW944GbKc",
      "include_colab_link": true
    },
    "kernelspec": {
      "name": "python3",
      "display_name": "Python 3"
    },
    "language_info": {
      "name": "python"
    }
  },
  "cells": [
    {
      "cell_type": "markdown",
      "metadata": {
        "id": "view-in-github",
        "colab_type": "text"
      },
      "source": [
        "<a href=\"https://colab.research.google.com/github/aderisky2602/ade/blob/main/Prak7AI.ipynb\" target=\"_parent\"><img src=\"https://colab.research.google.com/assets/colab-badge.svg\" alt=\"Open In Colab\"/></a>"
      ]
    },
    {
      "cell_type": "code",
      "execution_count": 1,
      "metadata": {
        "id": "TnZTwQZ_t6fO"
      },
      "outputs": [],
      "source": [
        "import numpy as np\n",
        "import pandas as pd\n",
        "import matplotlib.pyplot as plt\n",
        "%matplotlib inline\n"
      ]
    },
    {
      "cell_type": "code",
      "source": [
        "x=np.array([[1,1], [2,2], [3,2], [12,11], [11,13], [14,15]])\n",
        "y=np.array([0,0,0,1,1,1])\n",
        "x_baru=np.array([9,10])\n"
      ],
      "metadata": {
        "id": "ugzkdKnnu8ZZ"
      },
      "execution_count": 10,
      "outputs": []
    },
    {
      "cell_type": "code",
      "source": [
        "X"
      ],
      "metadata": {
        "colab": {
          "base_uri": "https://localhost:8080/"
        },
        "id": "aGBo1bi10_Bh",
        "outputId": "d1a7f0a6-f8cd-465d-bb2a-01ec2c656135"
      },
      "execution_count": 19,
      "outputs": [
        {
          "output_type": "execute_result",
          "data": {
            "text/plain": [
              "array([[ 1,  1],\n",
              "       [ 2,  2],\n",
              "       [ 3,  2],\n",
              "       [12, 11],\n",
              "       [11, 13],\n",
              "       [14, 15]])"
            ]
          },
          "metadata": {},
          "execution_count": 19
        }
      ]
    },
    {
      "cell_type": "code",
      "source": [
        "def jarak_euclidean(x,y):\n",
        "  return np.sqrt(sum(pow(a-b, 2) for a, b in zip(x,y)))"
      ],
      "metadata": {
        "id": "1YfHQs_Ivl_3"
      },
      "execution_count": 20,
      "outputs": []
    },
    {
      "cell_type": "code",
      "source": [
        "jarak=[]\n",
        "for x_i in X:\n",
        "  jarak_euclid=jarak_euclidean(x_i, x_baru)\n",
        "  jarak.append(jarak_euclid)\n",
        "  print(jarak)\n",
        "print(jarak)\n"
      ],
      "metadata": {
        "colab": {
          "base_uri": "https://localhost:8080/"
        },
        "id": "Skq-0vGLv675",
        "outputId": "bc9b4c23-d424-4c7a-ea76-72f3d35714c9"
      },
      "execution_count": 12,
      "outputs": [
        {
          "output_type": "stream",
          "name": "stdout",
          "text": [
            "[12.041594578792296]\n",
            "[12.041594578792296, 10.63014581273465]\n",
            "[12.041594578792296, 10.63014581273465, 10.0]\n",
            "[12.041594578792296, 10.63014581273465, 10.0, 3.1622776601683795]\n",
            "[12.041594578792296, 10.63014581273465, 10.0, 3.1622776601683795, 3.605551275463989]\n",
            "[12.041594578792296, 10.63014581273465, 10.0, 3.1622776601683795, 3.605551275463989, 7.0710678118654755]\n",
            "[12.041594578792296, 10.63014581273465, 10.0, 3.1622776601683795, 3.605551275463989, 7.0710678118654755]\n"
          ]
        }
      ]
    },
    {
      "cell_type": "code",
      "source": [
        "urut=np.sort(jarak)\n",
        "list_urut=[]\n",
        "for i in range(len(urut)):\n",
        "  list_urut.append(urut[i])\n",
        "print(list_urut)"
      ],
      "metadata": {
        "colab": {
          "base_uri": "https://localhost:8080/"
        },
        "id": "gWsKcEJmwdOV",
        "outputId": "01dd5d8b-d051-4c6e-82b3-d2391914aba8"
      },
      "execution_count": 13,
      "outputs": [
        {
          "output_type": "stream",
          "name": "stdout",
          "text": [
            "[3.1622776601683795, 3.605551275463989, 7.0710678118654755, 10.0, 10.63014581273465, 12.041594578792296]\n"
          ]
        }
      ]
    },
    {
      "cell_type": "code",
      "source": [
        "urutan=[]\n",
        "for i in list_urut:\n",
        "  urtn=jarak.index(i)\n",
        "  urutan.append(urtn)\n",
        "print(urutan)"
      ],
      "metadata": {
        "colab": {
          "base_uri": "https://localhost:8080/"
        },
        "id": "tgASTYsgw1f_",
        "outputId": "08946d4b-ec11-4acb-8d67-37540d42af44"
      },
      "execution_count": 14,
      "outputs": [
        {
          "output_type": "stream",
          "name": "stdout",
          "text": [
            "[3, 4, 5, 2, 1, 0]\n"
          ]
        }
      ]
    },
    {
      "cell_type": "code",
      "source": [
        "k=3\n",
        "ambil=urutan[:k]\n",
        "print(Y[ambil])"
      ],
      "metadata": {
        "colab": {
          "base_uri": "https://localhost:8080/"
        },
        "id": "tHYqaWpKxAVl",
        "outputId": "e0e0902b-f564-4abb-bac5-6e0d156d0fe2"
      },
      "execution_count": 16,
      "outputs": [
        {
          "output_type": "stream",
          "name": "stdout",
          "text": [
            "[1 1 1]\n"
          ]
        }
      ]
    },
    {
      "cell_type": "code",
      "source": [
        "from collections import Counter\n",
        "kelas_paling_banyak = Counter(Y[ambil]).most_common(1)\n",
        "out=kelas_paling_banyak[0][0]"
      ],
      "metadata": {
        "id": "eg8EXBXcyCyY"
      },
      "execution_count": 30,
      "outputs": []
    },
    {
      "cell_type": "code",
      "source": [
        "print('kelas data uji' ,out)"
      ],
      "metadata": {
        "colab": {
          "base_uri": "https://localhost:8080/"
        },
        "id": "qo-LocnP1mJC",
        "outputId": "94b4c6c0-e344-4131-9a00-ae0f2116d876"
      },
      "execution_count": 31,
      "outputs": [
        {
          "output_type": "stream",
          "name": "stdout",
          "text": [
            "kelas data uji 1\n"
          ]
        }
      ]
    },
    {
      "cell_type": "code",
      "source": [
        "#plot data\n",
        "df = pd.DataFrame(X, columns=['x1', 'x2'])\n",
        "colormap = np.array(['g', 'b'])\n",
        "label=['A','A','A' ,'B','B','B']\n",
        "#plot titik data\n",
        "plt.scatter(df['x1'], df['x2'], c=colormap[Y])\n",
        "plt.scatter(x_baru[0], x_baru[1], color='r', label='Data Baru')\n",
        "# Label Sumbu X\n",
        "plt.xlabel('x_1')\n",
        "# Label Sumbu Y\n",
        "plt.ylabel('x_2')\n",
        "#Menampilkan Legenda\n",
        "plt.legend()\n",
        "#Menampilkan Gambar Hasil Plot\n",
        "plt.show()"
      ],
      "metadata": {
        "colab": {
          "base_uri": "https://localhost:8080/",
          "height": 449
        },
        "id": "rs7FvyTfyemd",
        "outputId": "e85985aa-beaf-4c7c-d953-8c0046b2b733"
      },
      "execution_count": 32,
      "outputs": [
        {
          "output_type": "display_data",
          "data": {
            "text/plain": [
              "<Figure size 640x480 with 1 Axes>"
            ],
            "image/png": "[encoded data removed]"
          },
          "metadata": {}
        }
      ]
    }
  ]
}