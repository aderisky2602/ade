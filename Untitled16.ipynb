{
  "nbformat": 4,
  "nbformat_minor": 0,
  "metadata": {
    "colab": {
      "provenance": [],
      "authorship_tag": "ABX9TyMMF5dY8EAyvUIRSir4LbPi",
      "include_colab_link": true
    },
    "kernelspec": {
      "name": "python3",
      "display_name": "Python 3"
    },
    "language_info": {
      "name": "python"
    }
  },
  "cells": [
    {
      "cell_type": "markdown",
      "metadata": {
        "id": "view-in-github",
        "colab_type": "text"
      },
      "source": [
        "<a href=\"https://colab.research.google.com/github/aderisky2602/ade/blob/main/Untitled16.ipynb\" target=\"_parent\"><img src=\"https://colab.research.google.com/assets/colab-badge.svg\" alt=\"Open In Colab\"/></a>"
      ]
    },
    {
      "cell_type": "code",
      "source": [
        "# meminta input data dari pengguna\n",
        "nim = input(\"masukkan NIM:\")\n",
        "nama = input(\"masukkan nama:\")\n",
        "\n",
        "# meminta input nilai\n",
        "nilai_tugas = float(input(\"masukkan nilai tugas:\"))\n",
        "nilai_mid = float(input(\"masukkan nilai mid:\"))\n",
        "nilai_akhir = float(input(\"masukkan nilai akhir\"))\n",
        "\n",
        "# menghitung total skor\n",
        "total_skor = (0.2 * nilai_tugas) + (0.3 * nilai_mid) + (0.5 * nilai_akhir)\n",
        "\n",
        "# menentukan nilai huruf berdasarkan total skor\n",
        "if 85 <= total_skor <= 100:\n",
        "    nilai_huruf = \"A\"\n",
        "elif 70 <= total_skor <85:\n",
        "    nilai_huruf = \"B\"\n",
        "elif 60 <= total_skor <70:\n",
        "    nilai_huruf = \"C\"\n",
        "elif 50 <= total_skor <60:\n",
        "    nilai_huruf = \"D\"\n",
        "else:\n",
        "    nilai_huruf = \"E\"\n",
        "# menampilkan hasil\n",
        "print(\"\\n=== hasil akhir ===\")\n",
        "print(f\"NIM        : {nim}\")\n",
        "print(f\"Nama       : {nama}\")\n",
        "print(f\"Total Skor : {total_skor:2f}\")\n",
        "print(f\"Nilai Huruf: {nilai_huruf}\")\n",
        "\n"
      ],
      "metadata": {
        "colab": {
          "base_uri": "https://localhost:8080/"
        },
        "id": "Zq-OAxm0seCY",
        "outputId": "ae8b26c1-82d0-4660-adb1-f071e7200f30"
      },
      "execution_count": 2,
      "outputs": [
        {
          "output_type": "stream",
          "name": "stdout",
          "text": [
            "masukkan NIM:g211230110\n",
            "masukkan nama:Ade Risky\n",
            "masukkan nilai tugas:85\n",
            "masukkan nilai mid:90\n",
            "masukkan nilai akhir75\n",
            "\n",
            "=== hasil akhir ===\n",
            "NIM        : g211230110\n",
            "Nama       : Ade Risky\n",
            "Total Skor : 81.500000\n",
            "Nilai Huruf: B\n"
          ]
        }
      ]
    },
    {
      "cell_type": "code",
      "source": [
        "# Fungsi untuk menghitung total gaji\n",
        "def hitung_total_gaji(gaji_pokok, tunjangan, uang_makan):\n",
        "    return gaji_pokok + tunjangan + uang_makan\n",
        "\n",
        "# Input data pegawai\n",
        "nip = input(\"NIP: \")\n",
        "nama = input(\"Nama: \")\n",
        "golongan = input(\"Golongan: \")\n",
        "gaji_pokok = float(input(\"Gaji Pokok: \"))\n",
        "tunjangan = float(input(\"Tunjangan: \"))\n",
        "uang_makan = float(input(\"Uang Makan: \"))\n",
        "\n",
        "# Hitung total gaji\n",
        "total_gaji = hitung_total_gaji(gaji_pokok, tunjangan, uang_makan)\n",
        "\n",
        "# Tampilkan hasil\n",
        "print(\"\\n=== Data Pegawai ===\")\n",
        "print(f\"NIP        : {nip}\")\n",
        "print(f\"Nama       : {nama}\")\n",
        "print(f\"Golongan   : {golongan}\")\n",
        "print(f\"Gaji Pokok : {gaji_pokok:,.2f}\")\n",
        "print(f\"Tunjangan  : {tunjangan:,.2f}\")\n",
        "print(f\"Uang Makan : {uang_makan:,.2f}\")\n",
        "print(f\"Total Gaji : {total_gaji:,.2f}\")\n"
      ],
      "metadata": {
        "colab": {
          "base_uri": "https://localhost:8080/"
        },
        "id": "ERDvphhJCFZo",
        "outputId": "760b4713-04e9-4790-ac8a-1b4a72e580a5"
      },
      "execution_count": 3,
      "outputs": [
        {
          "output_type": "stream",
          "name": "stdout",
          "text": [
            "NIP: 10\n",
            "Nama: Ade Risky\n",
            "Golongan: 1\n",
            "Gaji Pokok: 850\n",
            "Tunjangan: 300\n",
            "Uang Makan: 350\n",
            "\n",
            "=== Data Pegawai ===\n",
            "NIP        : 10\n",
            "Nama       : Ade Risky\n",
            "Golongan   : 1\n",
            "Gaji Pokok : 850.00\n",
            "Tunjangan  : 300.00\n",
            "Uang Makan : 350.00\n",
            "Total Gaji : 1,500.00\n"
          ]
        }
      ]
    }
  ]
}